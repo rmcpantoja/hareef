{
  "cells": [
    {
      "cell_type": "markdown",
      "metadata": {
        "id": "view-in-github",
        "colab_type": "text"
      },
      "source": [
        "<a href=\"https://colab.research.google.com/github/rmcpantoja/hareef/blob/main/notebooks/hareef_train.ipynb\" target=\"_parent\"><img src=\"https://colab.research.google.com/assets/colab-badge.svg\" alt=\"Open In Colab\"/></a>"
      ]
    },
    {
      "cell_type": "code",
      "execution_count": null,
      "metadata": {
        "cellView": "form",
        "id": "qyxSMuzjfQrz"
      },
      "outputs": [],
      "source": [
        "#@markdown ## <font color=\"pink\"> **Google Colab Anti-Disconnect.** 🔌\n",
        "#@markdown ---\n",
        "#@markdown #### Avoid automatic disconnection. Still, it will disconnect after <font color=\"orange\">**6 to 12 hours**</font>.\n",
        "\n",
        "import IPython\n",
        "js_code = '''\n",
        "function ClickConnect(){\n",
        "console.log(\"Working\");\n",
        "document.querySelector(\"colab-toolbar-button#connect\").click()\n",
        "}\n",
        "setInterval(ClickConnect,60000)\n",
        "'''\n",
        "display(IPython.display.Javascript(js_code))"
      ]
    },
    {
      "cell_type": "code",
      "execution_count": null,
      "metadata": {
        "cellView": "form",
        "id": "ygxzp-xHTC7T"
      },
      "outputs": [],
      "source": [
        "#@markdown ## <font color=\"pink\"> **Check GPU type.** 👁️\n",
        "#@markdown ---\n",
        "#@markdown #### A higher capable GPU can lead to faster training speeds. By default, you will have a <font color=\"orange\">**Tesla T4**</font>.\n",
        "!nvidia-smi"
      ]
    },
    {
      "cell_type": "code",
      "execution_count": null,
      "metadata": {
        "cellView": "form",
        "id": "sUNjId07JfAK"
      },
      "outputs": [],
      "source": [
        "#@markdown # <font color=\"pink\"> **Mount Google Drive.** 📂\n",
        "from google.colab import drive\n",
        "drive.mount('/content/drive', force_remount=True)"
      ]
    },
    {
      "cell_type": "code",
      "execution_count": null,
      "metadata": {
        "cellView": "form",
        "id": "_XwmTVlcUgCh"
      },
      "outputs": [],
      "source": [
        "#@markdown # <font color=\"pink\"> **Install software.** 📦\n",
        "#@markdown ####In this cell the package and its necessary dependencies to execute the training will be installed. (this may take a while)\n",
        "\n",
        "%cd /content\n",
        "# clone:\n",
        "!git clone https://github.com/mush42/hareef\n",
        "!pip install -r requirements.txt"
      ]
    },
    {
      "cell_type": "code",
      "execution_count": null,
      "metadata": {
        "cellView": "form",
        "id": "N3QkZFxmHdtR"
      },
      "outputs": [],
      "source": [
        "#@markdown # <font color=\"pink\"> Get the dataset. 📁\n",
        "#@markdown ####In this cell the dataset is obtained\n",
        "%cd /content\n",
        "!apt-get install p7zip-full\n",
        "!mkdir corpus\n",
        "%cd ./corpus\n",
        "!wget \"corpus_url\" -O arabic-diacritization-corpus.7z\n",
        "!7z e arabic-diacritization-corpus.7z\n",
        "!mv arabic-diacritization-corpus.txt corpus.txt\n",
        "%cd .."
      ]
    },
    {
      "cell_type": "code",
      "execution_count": null,
      "metadata": {
        "cellView": "form",
        "id": "3pBAaAtaHdtS"
      },
      "outputs": [],
      "source": [
        "#@markdown # <font color=\"pink\"> **Prepare Dataset. 🏎**\n",
        "#@markdown ####In this cell the corpus will be processed (this may take a while)\n",
        "%cd /content/hareef\n",
        "!python -m hareef.cbhg.process_corpus --config ./config/cbhg/prod.json --validate  /content/corpus/corpus.txt"
      ]
    },
    {
      "cell_type": "code",
      "execution_count": null,
      "metadata": {
        "cellView": "form",
        "id": "wxnLBhfEHdtT"
      },
      "outputs": [],
      "source": [
        "#@markdown # <font color=\"pink\"> Start the training. 🏋🏻\n",
        "#@markdown ####In this cell the training will start (this may take a while)\n",
        "\n",
        "%cd /content/hareef\n",
        "!python -m hareef.cbhg.train --config ./config/cbhg/prod.json"
      ]
    },
    {
      "cell_type": "code",
      "execution_count": null,
      "metadata": {
        "cellView": "form",
        "id": "yymiWjWpHdtU"
      },
      "outputs": [],
      "source": [
        "#@markdown # <font color=\"pink\"> Export the final model to ONNX\n",
        "#@markdown ####In this cell the model will be exported to ONNX\n",
        "\n",
        "%cd /content/drive/MyDrive/hareef/repo\n",
        "\n",
        "!python -m hareef.cbhg.export_onnx --config ./config/cbhg/prod.json --output /content/drive/MyDrive/hareef/training/model.onnx"
      ]
    }
  ],
  "metadata": {
    "accelerator": "GPU",
    "colab": {
      "gpuType": "T4",
      "provenance": [],
      "include_colab_link": true
    },
    "gpuClass": "standard",
    "kernelspec": {
      "display_name": "Python 3",
      "name": "python3"
    },
    "language_info": {
      "name": "python"
    }
  },
  "nbformat": 4,
  "nbformat_minor": 0
}